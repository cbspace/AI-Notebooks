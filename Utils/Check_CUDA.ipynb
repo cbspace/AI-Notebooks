{
 "cells": [
  {
   "cell_type": "markdown",
   "id": "cb0b6b30-b1c9-4107-b13c-55f46b7ce1bc",
   "metadata": {},
   "source": [
    "# Check if Pytorch is using the GPU!"
   ]
  },
  {
   "cell_type": "raw",
   "id": "3dae025d-9d26-4511-8702-e1b25cc165c9",
   "metadata": {},
   "source": [
    "First check if CUDA is available, True = GPU and if set to False the CPU is being used"
   ]
  },
  {
   "cell_type": "code",
   "execution_count": 16,
   "id": "ace001a8-1411-48bd-aa95-41a7c47d892f",
   "metadata": {},
   "outputs": [
    {
     "data": {
      "text/plain": [
       "True"
      ]
     },
     "execution_count": 16,
     "metadata": {},
     "output_type": "execute_result"
    }
   ],
   "source": [
    "import torch\n",
    "torch.cuda.is_available()"
   ]
  },
  {
   "cell_type": "code",
   "execution_count": 17,
   "id": "67ec7218-ebb7-4c1a-9823-976f8088217a",
   "metadata": {},
   "outputs": [
    {
     "name": "stdout",
     "output_type": "stream",
     "text": [
      "ID: 0 Device: <torch.cuda.device object at 0x7f604408f350>\n"
     ]
    }
   ],
   "source": [
    "# Get device count\n",
    "torch.cuda.device_count()\n",
    "# Get current device id\n",
    "current_device = torch.cuda.current_device()\n",
    "print(f\"ID: {current_device} Device: {torch.cuda.device(current_device)}\")"
   ]
  },
  {
   "cell_type": "code",
   "execution_count": 19,
   "id": "ffc9a51e-6eea-4f46-9b35-f2c91ae8cb10",
   "metadata": {},
   "outputs": [
    {
     "data": {
      "text/plain": [
       "'NVIDIA GeForce RTX 4090'"
      ]
     },
     "execution_count": 19,
     "metadata": {},
     "output_type": "execute_result"
    }
   ],
   "source": [
    "# Get device name\n",
    "torch.cuda.get_device_name(0)"
   ]
  },
  {
   "cell_type": "code",
   "execution_count": 20,
   "id": "595ac83f-4223-4965-9f64-7b6f0371ac0e",
   "metadata": {},
   "outputs": [
    {
     "name": "stdout",
     "output_type": "stream",
     "text": [
      "Memory Usage:\n",
      "Allocated: 0.0 GB\n",
      "Cached:    0.0 GB\n"
     ]
    }
   ],
   "source": [
    "# Print memory usage\n",
    "print('Memory Usage:')\n",
    "print('Allocated:', round(torch.cuda.memory_allocated(0)/1024**3,1), 'GB')\n",
    "print('Cached:   ', round(torch.cuda.memory_reserved(0)/1024**3,1), 'GB')"
   ]
  },
  {
   "cell_type": "code",
   "execution_count": null,
   "id": "9a4bf4cd-d899-4e2c-ba6c-f81be9b35e5b",
   "metadata": {},
   "outputs": [],
   "source": []
  }
 ],
 "metadata": {
  "kernelspec": {
   "display_name": "Python 3 (ipykernel)",
   "language": "python",
   "name": "python3"
  },
  "language_info": {
   "codemirror_mode": {
    "name": "ipython",
    "version": 3
   },
   "file_extension": ".py",
   "mimetype": "text/x-python",
   "name": "python",
   "nbconvert_exporter": "python",
   "pygments_lexer": "ipython3",
   "version": "3.11.5"
  }
 },
 "nbformat": 4,
 "nbformat_minor": 5
}
