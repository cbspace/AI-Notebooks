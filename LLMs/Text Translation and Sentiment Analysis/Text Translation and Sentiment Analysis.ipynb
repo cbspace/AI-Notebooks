{
 "cells": [
  {
   "cell_type": "markdown",
   "metadata": {
    "collapsed": false,
    "jupyter": {
     "outputs_hidden": false
    }
   },
   "source": [
    "# Text Translation and Sentiment Analysis using Transformers"
   ]
  },
  {
   "cell_type": "markdown",
   "metadata": {
    "collapsed": false,
    "jupyter": {
     "outputs_hidden": false
    }
   },
   "source": [
    "## Project Overview:\n",
    "\n",
    "The objective of this project is to analyze the sentiment of movie reviews in three different languages - English, French, and Spanish. We have been given 30 movies, 10 in each language, along with their reviews and synopses in separate CSV files named `movie_reviews_eng.csv`, `movie_reviews_fr.csv`, and `movie_reviews_sp.csv`.\n",
    "\n",
    "- The first step of this project is to convert the French and Spanish reviews and synopses into English. This will allow us to analyze the sentiment of all reviews in the same language. We will be using pre-trained transformers from HuggingFace to achieve this task.\n",
    "\n",
    "- Once the translations are complete, we will create a single dataframe that contains all the movies along with their reviews, synopses, and year of release in all three languages. This dataframe will be used to perform sentiment analysis on the reviews of each movie.\n",
    "\n",
    "- Finally, we will use pretrained transformers from HuggingFace to analyze the sentiment of each review. The sentiment analysis results will be added to the dataframe. The final dataframe will have 30 rows\n",
    "\n",
    "\n",
    "The output of the project will be a CSV file with a header row that includes column names such as **Title**, **Year**, **Synopsis**, **Review**, **Review Sentiment**, and **Original Language**. The **Original Language** column will indicate the language of the review and synopsis (*en/fr/sp*) before translation. The dataframe will consist of 30 rows, with each row corresponding to a movie."
   ]
  },
  {
   "cell_type": "code",
   "execution_count": 1,
   "metadata": {
    "collapsed": false,
    "jupyter": {
     "outputs_hidden": false
    }
   },
   "outputs": [],
   "source": [
    "# imports\n",
    "import pandas as pd\n",
    "from transformers import MarianMTModel, MarianTokenizer\n",
    "from transformers import pipeline"
   ]
  },
  {
   "cell_type": "markdown",
   "metadata": {
    "collapsed": false,
    "jupyter": {
     "outputs_hidden": false
    }
   },
   "source": [
    "### Get data from `.csv` files and then preprocess data"
   ]
  },
  {
   "cell_type": "code",
   "execution_count": 2,
   "metadata": {
    "collapsed": false,
    "jupyter": {
     "outputs_hidden": false
    }
   },
   "outputs": [],
   "source": [
    "# use the `pd.read_csv()` function to read the movie_review_*.csv files into 3 separate pandas dataframes\n",
    "\n",
    "# Note: All the dataframes would have different column names. For testing purposes\n",
    "# you should have the following column names/headers -> [Title, Year, Synopsis, Review]\n",
    "\n",
    "def preprocess_data() -> pd.DataFrame:\n",
    "    \"\"\"\n",
    "    Reads movie data from .csv files, map column names, add the \"Original Language\" column,\n",
    "    and finally concatenate in one resultant dataframe called \"df\".\n",
    "    \"\"\"\n",
    "    #TODO 1: Add your code here\n",
    "    column_names = ['Title', 'Year', 'Synopsis', 'Review', 'Original Language']\n",
    "    \n",
    "    df_eng = pd.read_csv(\"data/movie_reviews_eng.csv\")\n",
    "    df_fr = pd.read_csv(\"data/movie_reviews_fr.csv\")\n",
    "    df_es = pd.read_csv(\"data/movie_reviews_sp.csv\")\n",
    "\n",
    "    df_eng['Original Language'] = 'EN'\n",
    "    df_fr['Original Language'] = 'FR'\n",
    "    df_es['Original Language'] = 'ES'\n",
    "\n",
    "    df_eng.columns = column_names\n",
    "    df_fr.columns = column_names\n",
    "    df_es.columns = column_names\n",
    "\n",
    "    df = pd.concat([df_eng, df_fr, df_es]).reset_index(drop=True)\n",
    "    return df\n",
    "\n",
    "df = preprocess_data()"
   ]
  },
  {
   "cell_type": "code",
   "execution_count": 3,
   "metadata": {
    "collapsed": false,
    "jupyter": {
     "outputs_hidden": false
    }
   },
   "outputs": [
    {
     "data": {
      "text/html": [
       "<div>\n",
       "<style scoped>\n",
       "    .dataframe tbody tr th:only-of-type {\n",
       "        vertical-align: middle;\n",
       "    }\n",
       "\n",
       "    .dataframe tbody tr th {\n",
       "        vertical-align: top;\n",
       "    }\n",
       "\n",
       "    .dataframe thead th {\n",
       "        text-align: right;\n",
       "    }\n",
       "</style>\n",
       "<table border=\"1\" class=\"dataframe\">\n",
       "  <thead>\n",
       "    <tr style=\"text-align: right;\">\n",
       "      <th></th>\n",
       "      <th>Title</th>\n",
       "      <th>Year</th>\n",
       "      <th>Synopsis</th>\n",
       "      <th>Review</th>\n",
       "      <th>Original Language</th>\n",
       "    </tr>\n",
       "  </thead>\n",
       "  <tbody>\n",
       "    <tr>\n",
       "      <th>2</th>\n",
       "      <td>Forrest Gump</td>\n",
       "      <td>1994</td>\n",
       "      <td>Forrest Gump (Tom Hanks) is a simple man with ...</td>\n",
       "      <td>\"Forrest Gump is a heartwarming and inspiratio...</td>\n",
       "      <td>EN</td>\n",
       "    </tr>\n",
       "    <tr>\n",
       "      <th>19</th>\n",
       "      <td>Babylon A.D.</td>\n",
       "      <td>2008</td>\n",
       "      <td>Dans un futur lointain, un mercenaire doit esc...</td>\n",
       "      <td>\"Ce film est un gâchis complet. Les personnage...</td>\n",
       "      <td>FR</td>\n",
       "    </tr>\n",
       "    <tr>\n",
       "      <th>1</th>\n",
       "      <td>The Dark Knight</td>\n",
       "      <td>2008</td>\n",
       "      <td>Batman (Christian Bale) teams up with District...</td>\n",
       "      <td>\"The Dark Knight is a thrilling and intense su...</td>\n",
       "      <td>EN</td>\n",
       "    </tr>\n",
       "    <tr>\n",
       "      <th>10</th>\n",
       "      <td>La La Land</td>\n",
       "      <td>2016</td>\n",
       "      <td>Cette comédie musicale raconte l'histoire d'un...</td>\n",
       "      <td>\"La La Land est un film absolument magnifique ...</td>\n",
       "      <td>FR</td>\n",
       "    </tr>\n",
       "    <tr>\n",
       "      <th>29</th>\n",
       "      <td>El Incidente</td>\n",
       "      <td>2014</td>\n",
       "      <td>En esta película de terror mexicana, un grupo ...</td>\n",
       "      <td>\"El Incidente es una película aburrida y sin s...</td>\n",
       "      <td>ES</td>\n",
       "    </tr>\n",
       "    <tr>\n",
       "      <th>26</th>\n",
       "      <td>Toc Toc</td>\n",
       "      <td>2017</td>\n",
       "      <td>En esta comedia española, un grupo de personas...</td>\n",
       "      <td>\"Toc Toc es una película aburrida y poco origi...</td>\n",
       "      <td>ES</td>\n",
       "    </tr>\n",
       "    <tr>\n",
       "      <th>21</th>\n",
       "      <td>La Casa de Papel</td>\n",
       "      <td>(2017-2021)</td>\n",
       "      <td>Esta serie de televisión española sigue a un g...</td>\n",
       "      <td>\"La Casa de Papel es una serie emocionante y a...</td>\n",
       "      <td>ES</td>\n",
       "    </tr>\n",
       "    <tr>\n",
       "      <th>15</th>\n",
       "      <td>Le Dîner de Cons</td>\n",
       "      <td>1998</td>\n",
       "      <td>Le film suit l'histoire d'un groupe d'amis ric...</td>\n",
       "      <td>\"Je n'ai pas aimé ce film du tout. Le concept ...</td>\n",
       "      <td>FR</td>\n",
       "    </tr>\n",
       "    <tr>\n",
       "      <th>25</th>\n",
       "      <td>Águila Roja</td>\n",
       "      <td>(2009-2016)</td>\n",
       "      <td>Esta serie de televisión española sigue las av...</td>\n",
       "      <td>\"Águila Roja es una serie aburrida y poco inte...</td>\n",
       "      <td>ES</td>\n",
       "    </tr>\n",
       "    <tr>\n",
       "      <th>4</th>\n",
       "      <td>Inception</td>\n",
       "      <td>2010</td>\n",
       "      <td>Dom Cobb (Leonardo DiCaprio) is a skilled thie...</td>\n",
       "      <td>\"Inception is a mind-bending and visually stun...</td>\n",
       "      <td>EN</td>\n",
       "    </tr>\n",
       "  </tbody>\n",
       "</table>\n",
       "</div>"
      ],
      "text/plain": [
       "               Title         Year  \\\n",
       "2       Forrest Gump         1994   \n",
       "19      Babylon A.D.         2008   \n",
       "1   The Dark Knight          2008   \n",
       "10        La La Land         2016   \n",
       "29      El Incidente         2014   \n",
       "26           Toc Toc         2017   \n",
       "21  La Casa de Papel  (2017-2021)   \n",
       "15  Le Dîner de Cons         1998   \n",
       "25      Águila Roja   (2009-2016)   \n",
       "4          Inception         2010   \n",
       "\n",
       "                                             Synopsis  \\\n",
       "2   Forrest Gump (Tom Hanks) is a simple man with ...   \n",
       "19  Dans un futur lointain, un mercenaire doit esc...   \n",
       "1   Batman (Christian Bale) teams up with District...   \n",
       "10  Cette comédie musicale raconte l'histoire d'un...   \n",
       "29  En esta película de terror mexicana, un grupo ...   \n",
       "26  En esta comedia española, un grupo de personas...   \n",
       "21  Esta serie de televisión española sigue a un g...   \n",
       "15  Le film suit l'histoire d'un groupe d'amis ric...   \n",
       "25  Esta serie de televisión española sigue las av...   \n",
       "4   Dom Cobb (Leonardo DiCaprio) is a skilled thie...   \n",
       "\n",
       "                                               Review Original Language  \n",
       "2   \"Forrest Gump is a heartwarming and inspiratio...                EN  \n",
       "19  \"Ce film est un gâchis complet. Les personnage...                FR  \n",
       "1   \"The Dark Knight is a thrilling and intense su...                EN  \n",
       "10  \"La La Land est un film absolument magnifique ...                FR  \n",
       "29  \"El Incidente es una película aburrida y sin s...                ES  \n",
       "26  \"Toc Toc es una película aburrida y poco origi...                ES  \n",
       "21  \"La Casa de Papel es una serie emocionante y a...                ES  \n",
       "15  \"Je n'ai pas aimé ce film du tout. Le concept ...                FR  \n",
       "25  \"Águila Roja es una serie aburrida y poco inte...                ES  \n",
       "4   \"Inception is a mind-bending and visually stun...                EN  "
      ]
     },
     "execution_count": 3,
     "metadata": {},
     "output_type": "execute_result"
    }
   ],
   "source": [
    "df.sample(10)"
   ]
  },
  {
   "cell_type": "markdown",
   "metadata": {
    "collapsed": false,
    "jupyter": {
     "outputs_hidden": false
    }
   },
   "source": [
    "### Text translation\n",
    "\n",
    "Translate the **Review** and **Synopsis** column values to English."
   ]
  },
  {
   "cell_type": "code",
   "execution_count": 4,
   "metadata": {
    "collapsed": false,
    "jupyter": {
     "outputs_hidden": false
    }
   },
   "outputs": [],
   "source": [
    "# load translation models and tokenizers\n",
    "# TODO 2: Update the code below\n",
    "fr_en_model_name = 'Helsinki-NLP/opus-mt-fr-en'\n",
    "es_en_model_name = 'Helsinki-NLP/opus-mt-es-en'\n",
    "fr_en_model = MarianMTModel.from_pretrained(fr_en_model_name)\n",
    "es_en_model = MarianMTModel.from_pretrained(es_en_model_name)\n",
    "fr_en_tokenizer = MarianTokenizer.from_pretrained(fr_en_model_name)\n",
    "es_en_tokenizer = MarianTokenizer.from_pretrained(es_en_model_name)\n",
    "\n",
    "# TODO 3: Complete the function below\n",
    "def translate(text: str, model, tokenizer) -> str:\n",
    "    \"\"\"\n",
    "    function to translate a text using a model and tokenizer\n",
    "    \"\"\"\n",
    "    # encode the text using the tokenizer\n",
    "    inputs = tokenizer(text, return_tensors='pt')\n",
    "\n",
    "    # generate the translation using the model\n",
    "    outputs = model.generate(**inputs)\n",
    "\n",
    "    # decode the generated output and return the translated text\n",
    "    decoded = tokenizer.decode(outputs[0], skip_special_tokens=True)\n",
    "    return decoded"
   ]
  },
  {
   "cell_type": "code",
   "execution_count": 5,
   "metadata": {},
   "outputs": [
    {
     "name": "stdout",
     "output_type": "stream",
     "text": [
      "The Land\n",
      "This musical tells the story of a budding actress and jazz pianist who fall in love in Los Angeles. The film was hailed for its enchanting music, dazzling dance scenes and exceptional performances.\n",
      "\"The Land is an absolutely beautiful film with songs that stay in the head for days. The actors are incredible and their alchemy is palpable. The dance scenes are absolutely dazzling and the story is touching and authentic.\"\n"
     ]
    }
   ],
   "source": [
    "# Test out translation\n",
    "fr_review = df.loc[df['Original Language']=='FR']\n",
    "print(translate(fr_review.iloc[0]['Title'], fr_en_model, fr_en_tokenizer))\n",
    "print(translate(fr_review.iloc[0]['Synopsis'], fr_en_model, fr_en_tokenizer))\n",
    "print(translate(fr_review.iloc[0]['Review'], fr_en_model, fr_en_tokenizer))"
   ]
  },
  {
   "cell_type": "code",
   "execution_count": 6,
   "metadata": {
    "collapsed": false,
    "jupyter": {
     "outputs_hidden": false
    }
   },
   "outputs": [],
   "source": [
    "# TODO 4: Update the code below\n",
    "\n",
    "# filter reviews in French and translate to English\n",
    "fr_reviews = df.loc[df['Original Language']=='FR']['Review']\n",
    "fr_reviews_en = fr_reviews.apply(lambda text: translate(text, fr_en_model, fr_en_tokenizer))\n",
    "\n",
    "# filter synopsis in French and translate to English\n",
    "fr_synopsis = df.loc[df['Original Language']=='FR']['Synopsis']\n",
    "fr_synopsis_en = fr_synopsis.apply(lambda text: translate(text, fr_en_model, fr_en_tokenizer))\n",
    "\n",
    "# filter reviews in Spanish and translate to English\n",
    "es_reviews = df.loc[df['Original Language']=='ES']['Review']\n",
    "es_reviews_en = es_reviews.apply(lambda text: translate(text, es_en_model, es_en_tokenizer))\n",
    "\n",
    "# filter synopsis in Spanish and translate to English\n",
    "es_synopsis = df.loc[df['Original Language']=='ES']['Synopsis']\n",
    "es_synopsis_en = es_synopsis.apply(lambda text: translate(text, es_en_model, es_en_tokenizer))"
   ]
  },
  {
   "cell_type": "code",
   "execution_count": 7,
   "metadata": {},
   "outputs": [],
   "source": [
    "# update dataframe with translated text\n",
    "# add the translated reviews and synopsis - you can overwrite the existing data\n",
    "df.loc[fr_reviews.index, 'Review'] = fr_reviews_en\n",
    "df.loc[fr_reviews.index, 'Synopsis'] = fr_synopsis_en\n",
    "df.loc[es_reviews.index, 'Review'] = es_reviews_en\n",
    "df.loc[es_reviews.index, 'Synopsis'] = es_synopsis_en"
   ]
  },
  {
   "cell_type": "code",
   "execution_count": 8,
   "metadata": {
    "collapsed": false,
    "jupyter": {
     "outputs_hidden": false
    }
   },
   "outputs": [
    {
     "data": {
      "text/html": [
       "<div>\n",
       "<style scoped>\n",
       "    .dataframe tbody tr th:only-of-type {\n",
       "        vertical-align: middle;\n",
       "    }\n",
       "\n",
       "    .dataframe tbody tr th {\n",
       "        vertical-align: top;\n",
       "    }\n",
       "\n",
       "    .dataframe thead th {\n",
       "        text-align: right;\n",
       "    }\n",
       "</style>\n",
       "<table border=\"1\" class=\"dataframe\">\n",
       "  <thead>\n",
       "    <tr style=\"text-align: right;\">\n",
       "      <th></th>\n",
       "      <th>Title</th>\n",
       "      <th>Year</th>\n",
       "      <th>Synopsis</th>\n",
       "      <th>Review</th>\n",
       "      <th>Original Language</th>\n",
       "    </tr>\n",
       "  </thead>\n",
       "  <tbody>\n",
       "    <tr>\n",
       "      <th>17</th>\n",
       "      <td>Astérix aux Jeux Olympiques</td>\n",
       "      <td>2008</td>\n",
       "      <td>In this film adaptation of the popular comic s...</td>\n",
       "      <td>\"This film is a complete disappointment. The j...</td>\n",
       "      <td>FR</td>\n",
       "    </tr>\n",
       "    <tr>\n",
       "      <th>15</th>\n",
       "      <td>Le Dîner de Cons</td>\n",
       "      <td>1998</td>\n",
       "      <td>The film follows the story of a group of rich ...</td>\n",
       "      <td>\"I didn't like this movie at all. The concept ...</td>\n",
       "      <td>FR</td>\n",
       "    </tr>\n",
       "    <tr>\n",
       "      <th>23</th>\n",
       "      <td>El Laberinto del Fauno</td>\n",
       "      <td>2006</td>\n",
       "      <td>During the Spanish postwar period, Ofelia (Iva...</td>\n",
       "      <td>\"The Labyrinth of Fauno is a fascinating and e...</td>\n",
       "      <td>ES</td>\n",
       "    </tr>\n",
       "    <tr>\n",
       "      <th>4</th>\n",
       "      <td>Inception</td>\n",
       "      <td>2010</td>\n",
       "      <td>Dom Cobb (Leonardo DiCaprio) is a skilled thie...</td>\n",
       "      <td>\"Inception is a mind-bending and visually stun...</td>\n",
       "      <td>EN</td>\n",
       "    </tr>\n",
       "    <tr>\n",
       "      <th>25</th>\n",
       "      <td>Águila Roja</td>\n",
       "      <td>(2009-2016)</td>\n",
       "      <td>This Spanish television series follows the adv...</td>\n",
       "      <td>\"Red Eagle is a boring and uninteresting serie...</td>\n",
       "      <td>ES</td>\n",
       "    </tr>\n",
       "    <tr>\n",
       "      <th>19</th>\n",
       "      <td>Babylon A.D.</td>\n",
       "      <td>2008</td>\n",
       "      <td>In the distant future, a mercenary has to esco...</td>\n",
       "      <td>\"This film is a complete mess. The characters ...</td>\n",
       "      <td>FR</td>\n",
       "    </tr>\n",
       "    <tr>\n",
       "      <th>29</th>\n",
       "      <td>El Incidente</td>\n",
       "      <td>2014</td>\n",
       "      <td>In this Mexican horror film, a group of people...</td>\n",
       "      <td>\"The Incident is a boring and frightless film ...</td>\n",
       "      <td>ES</td>\n",
       "    </tr>\n",
       "    <tr>\n",
       "      <th>18</th>\n",
       "      <td>Les Visiteurs en Amérique</td>\n",
       "      <td>2000</td>\n",
       "      <td>In this continuation of the French comedy The ...</td>\n",
       "      <td>\"The film is a total waste of time. The jokes ...</td>\n",
       "      <td>FR</td>\n",
       "    </tr>\n",
       "    <tr>\n",
       "      <th>13</th>\n",
       "      <td>Les Choristes</td>\n",
       "      <td>2004</td>\n",
       "      <td>This film tells the story of a music teacher w...</td>\n",
       "      <td>\"The Choristes are a beautiful film that will ...</td>\n",
       "      <td>FR</td>\n",
       "    </tr>\n",
       "    <tr>\n",
       "      <th>21</th>\n",
       "      <td>La Casa de Papel</td>\n",
       "      <td>(2017-2021)</td>\n",
       "      <td>This Spanish television series follows a group...</td>\n",
       "      <td>\"The Paper House is an exciting and addictive ...</td>\n",
       "      <td>ES</td>\n",
       "    </tr>\n",
       "  </tbody>\n",
       "</table>\n",
       "</div>"
      ],
      "text/plain": [
       "                          Title         Year  \\\n",
       "17  Astérix aux Jeux Olympiques         2008   \n",
       "15             Le Dîner de Cons         1998   \n",
       "23       El Laberinto del Fauno         2006   \n",
       "4                     Inception         2010   \n",
       "25                 Águila Roja   (2009-2016)   \n",
       "19                 Babylon A.D.         2008   \n",
       "29                 El Incidente         2014   \n",
       "18    Les Visiteurs en Amérique         2000   \n",
       "13                Les Choristes         2004   \n",
       "21             La Casa de Papel  (2017-2021)   \n",
       "\n",
       "                                             Synopsis  \\\n",
       "17  In this film adaptation of the popular comic s...   \n",
       "15  The film follows the story of a group of rich ...   \n",
       "23  During the Spanish postwar period, Ofelia (Iva...   \n",
       "4   Dom Cobb (Leonardo DiCaprio) is a skilled thie...   \n",
       "25  This Spanish television series follows the adv...   \n",
       "19  In the distant future, a mercenary has to esco...   \n",
       "29  In this Mexican horror film, a group of people...   \n",
       "18  In this continuation of the French comedy The ...   \n",
       "13  This film tells the story of a music teacher w...   \n",
       "21  This Spanish television series follows a group...   \n",
       "\n",
       "                                               Review Original Language  \n",
       "17  \"This film is a complete disappointment. The j...                FR  \n",
       "15  \"I didn't like this movie at all. The concept ...                FR  \n",
       "23  \"The Labyrinth of Fauno is a fascinating and e...                ES  \n",
       "4   \"Inception is a mind-bending and visually stun...                EN  \n",
       "25  \"Red Eagle is a boring and uninteresting serie...                ES  \n",
       "19  \"This film is a complete mess. The characters ...                FR  \n",
       "29  \"The Incident is a boring and frightless film ...                ES  \n",
       "18  \"The film is a total waste of time. The jokes ...                FR  \n",
       "13  \"The Choristes are a beautiful film that will ...                FR  \n",
       "21  \"The Paper House is an exciting and addictive ...                ES  "
      ]
     },
     "execution_count": 8,
     "metadata": {},
     "output_type": "execute_result"
    }
   ],
   "source": [
    "df.sample(10)"
   ]
  },
  {
   "cell_type": "markdown",
   "metadata": {
    "collapsed": false,
    "jupyter": {
     "outputs_hidden": false
    }
   },
   "source": [
    "### Sentiment Analysis\n",
    "\n",
    "Use HuggingFace pretrained model for sentiment analysis of the reviews. Store the sentiment result **Positive** or **Negative** in a new column titled **Sentiment** in the dataframe."
   ]
  },
  {
   "cell_type": "code",
   "execution_count": 9,
   "metadata": {},
   "outputs": [],
   "source": [
    "# TODO 5: Update the code below\n",
    "# load sentiment analysis model\n",
    "model_name = 'distilbert-base-uncased-finetuned-sst-2-english'\n",
    "sentiment_classifier = pipeline(model=model_name)\n",
    "\n",
    "# TODO 6: Complete the function below\n",
    "def analyze_sentiment(text, classifier):\n",
    "    \"\"\"\n",
    "    function to perform sentiment analysis on a text using a model\n",
    "    \"\"\"\n",
    "    output = classifier(text)\n",
    "    sentiment = output[0]['label'].title()\n",
    "    \n",
    "    return sentiment"
   ]
  },
  {
   "cell_type": "code",
   "execution_count": 10,
   "metadata": {
    "collapsed": false,
    "jupyter": {
     "outputs_hidden": false
    }
   },
   "outputs": [],
   "source": [
    "# TODO 7: Add code below for sentiment analysis\n",
    "# perform sentiment analysis on reviews and store results in new column\n",
    "df['Sentiment'] = df['Review'].apply(lambda text: analyze_sentiment(text, sentiment_classifier))"
   ]
  },
  {
   "cell_type": "code",
   "execution_count": 11,
   "metadata": {
    "collapsed": false,
    "jupyter": {
     "outputs_hidden": false
    }
   },
   "outputs": [
    {
     "data": {
      "text/html": [
       "<div>\n",
       "<style scoped>\n",
       "    .dataframe tbody tr th:only-of-type {\n",
       "        vertical-align: middle;\n",
       "    }\n",
       "\n",
       "    .dataframe tbody tr th {\n",
       "        vertical-align: top;\n",
       "    }\n",
       "\n",
       "    .dataframe thead th {\n",
       "        text-align: right;\n",
       "    }\n",
       "</style>\n",
       "<table border=\"1\" class=\"dataframe\">\n",
       "  <thead>\n",
       "    <tr style=\"text-align: right;\">\n",
       "      <th></th>\n",
       "      <th>Title</th>\n",
       "      <th>Year</th>\n",
       "      <th>Synopsis</th>\n",
       "      <th>Review</th>\n",
       "      <th>Original Language</th>\n",
       "      <th>Sentiment</th>\n",
       "    </tr>\n",
       "  </thead>\n",
       "  <tbody>\n",
       "    <tr>\n",
       "      <th>16</th>\n",
       "      <td>La Tour Montparnasse Infernale</td>\n",
       "      <td>2001</td>\n",
       "      <td>Two incompetent office workers find themselves...</td>\n",
       "      <td>\"I can't believe I've wasted time watching thi...</td>\n",
       "      <td>FR</td>\n",
       "      <td>Negative</td>\n",
       "    </tr>\n",
       "    <tr>\n",
       "      <th>1</th>\n",
       "      <td>The Dark Knight</td>\n",
       "      <td>2008</td>\n",
       "      <td>Batman (Christian Bale) teams up with District...</td>\n",
       "      <td>\"The Dark Knight is a thrilling and intense su...</td>\n",
       "      <td>EN</td>\n",
       "      <td>Positive</td>\n",
       "    </tr>\n",
       "    <tr>\n",
       "      <th>2</th>\n",
       "      <td>Forrest Gump</td>\n",
       "      <td>1994</td>\n",
       "      <td>Forrest Gump (Tom Hanks) is a simple man with ...</td>\n",
       "      <td>\"Forrest Gump is a heartwarming and inspiratio...</td>\n",
       "      <td>EN</td>\n",
       "      <td>Positive</td>\n",
       "    </tr>\n",
       "    <tr>\n",
       "      <th>7</th>\n",
       "      <td>The Nice Guys</td>\n",
       "      <td>2016</td>\n",
       "      <td>In 1970s Los Angeles, a private eye (Ryan Gosl...</td>\n",
       "      <td>\"The Nice Guys tries too hard to be funny, and...</td>\n",
       "      <td>EN</td>\n",
       "      <td>Negative</td>\n",
       "    </tr>\n",
       "    <tr>\n",
       "      <th>22</th>\n",
       "      <td>Y tu mamá también</td>\n",
       "      <td>2001</td>\n",
       "      <td>Two teenage friends (Gael García Bernal and Di...</td>\n",
       "      <td>\"And your mom is also a movie that stays with ...</td>\n",
       "      <td>ES</td>\n",
       "      <td>Positive</td>\n",
       "    </tr>\n",
       "    <tr>\n",
       "      <th>13</th>\n",
       "      <td>Les Choristes</td>\n",
       "      <td>2004</td>\n",
       "      <td>This film tells the story of a music teacher w...</td>\n",
       "      <td>\"The Choristes are a beautiful film that will ...</td>\n",
       "      <td>FR</td>\n",
       "      <td>Positive</td>\n",
       "    </tr>\n",
       "    <tr>\n",
       "      <th>9</th>\n",
       "      <td>The Island</td>\n",
       "      <td>2005</td>\n",
       "      <td>In a future where people are cloned for organ ...</td>\n",
       "      <td>\"The Island is a bland and forgettable sci-fi ...</td>\n",
       "      <td>EN</td>\n",
       "      <td>Negative</td>\n",
       "    </tr>\n",
       "    <tr>\n",
       "      <th>24</th>\n",
       "      <td>Amores perros</td>\n",
       "      <td>2000</td>\n",
       "      <td>Three stories intertwine in this Mexican film:...</td>\n",
       "      <td>\"Amores dogs is an intense and moving film tha...</td>\n",
       "      <td>ES</td>\n",
       "      <td>Positive</td>\n",
       "    </tr>\n",
       "    <tr>\n",
       "      <th>19</th>\n",
       "      <td>Babylon A.D.</td>\n",
       "      <td>2008</td>\n",
       "      <td>In the distant future, a mercenary has to esco...</td>\n",
       "      <td>\"This film is a complete mess. The characters ...</td>\n",
       "      <td>FR</td>\n",
       "      <td>Negative</td>\n",
       "    </tr>\n",
       "    <tr>\n",
       "      <th>12</th>\n",
       "      <td>Amélie</td>\n",
       "      <td>2001</td>\n",
       "      <td>This romantic comedy tells the story of Amélie...</td>\n",
       "      <td>\"Amélie is an absolutely charming film that wi...</td>\n",
       "      <td>FR</td>\n",
       "      <td>Positive</td>\n",
       "    </tr>\n",
       "  </tbody>\n",
       "</table>\n",
       "</div>"
      ],
      "text/plain": [
       "                             Title  Year  \\\n",
       "16  La Tour Montparnasse Infernale  2001   \n",
       "1                 The Dark Knight   2008   \n",
       "2                     Forrest Gump  1994   \n",
       "7                    The Nice Guys  2016   \n",
       "22               Y tu mamá también  2001   \n",
       "13                   Les Choristes  2004   \n",
       "9                       The Island  2005   \n",
       "24                   Amores perros  2000   \n",
       "19                    Babylon A.D.  2008   \n",
       "12                          Amélie  2001   \n",
       "\n",
       "                                             Synopsis  \\\n",
       "16  Two incompetent office workers find themselves...   \n",
       "1   Batman (Christian Bale) teams up with District...   \n",
       "2   Forrest Gump (Tom Hanks) is a simple man with ...   \n",
       "7   In 1970s Los Angeles, a private eye (Ryan Gosl...   \n",
       "22  Two teenage friends (Gael García Bernal and Di...   \n",
       "13  This film tells the story of a music teacher w...   \n",
       "9   In a future where people are cloned for organ ...   \n",
       "24  Three stories intertwine in this Mexican film:...   \n",
       "19  In the distant future, a mercenary has to esco...   \n",
       "12  This romantic comedy tells the story of Amélie...   \n",
       "\n",
       "                                               Review Original Language  \\\n",
       "16  \"I can't believe I've wasted time watching thi...                FR   \n",
       "1   \"The Dark Knight is a thrilling and intense su...                EN   \n",
       "2   \"Forrest Gump is a heartwarming and inspiratio...                EN   \n",
       "7   \"The Nice Guys tries too hard to be funny, and...                EN   \n",
       "22  \"And your mom is also a movie that stays with ...                ES   \n",
       "13  \"The Choristes are a beautiful film that will ...                FR   \n",
       "9   \"The Island is a bland and forgettable sci-fi ...                EN   \n",
       "24  \"Amores dogs is an intense and moving film tha...                ES   \n",
       "19  \"This film is a complete mess. The characters ...                FR   \n",
       "12  \"Amélie is an absolutely charming film that wi...                FR   \n",
       "\n",
       "   Sentiment  \n",
       "16  Negative  \n",
       "1   Positive  \n",
       "2   Positive  \n",
       "7   Negative  \n",
       "22  Positive  \n",
       "13  Positive  \n",
       "9   Negative  \n",
       "24  Positive  \n",
       "19  Negative  \n",
       "12  Positive  "
      ]
     },
     "execution_count": 11,
     "metadata": {},
     "output_type": "execute_result"
    }
   ],
   "source": [
    "df.sample(10)"
   ]
  },
  {
   "cell_type": "code",
   "execution_count": 12,
   "metadata": {
    "collapsed": false,
    "jupyter": {
     "outputs_hidden": false
    }
   },
   "outputs": [],
   "source": [
    "# export the results to a .csv file\n",
    "df.to_csv(\"result/reviews_with_sentiment.csv\", index=False)"
   ]
  }
 ],
 "metadata": {
  "kernelspec": {
   "display_name": "Python 3 (ipykernel)",
   "language": "python",
   "name": "python3"
  },
  "language_info": {
   "codemirror_mode": {
    "name": "ipython",
    "version": 3
   },
   "file_extension": ".py",
   "mimetype": "text/x-python",
   "name": "python",
   "nbconvert_exporter": "python",
   "pygments_lexer": "ipython3",
   "version": "3.11.5"
  }
 },
 "nbformat": 4,
 "nbformat_minor": 4
}
